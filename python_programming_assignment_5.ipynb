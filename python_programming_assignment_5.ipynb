{
  "nbformat": 4,
  "nbformat_minor": 0,
  "metadata": {
    "colab": {
      "provenance": []
    },
    "kernelspec": {
      "name": "python3",
      "display_name": "Python 3"
    },
    "language_info": {
      "name": "python"
    }
  },
  "cells": [
    {
      "cell_type": "code",
      "execution_count": null,
      "metadata": {
        "id": "JIQvFuAc1l4x"
      },
      "outputs": [],
      "source": []
    },
    {
      "cell_type": "markdown",
      "source": [
        "#Programming Assignment 5"
      ],
      "metadata": {
        "id": "UYCsoVha1pqF"
      }
    },
    {
      "cell_type": "markdown",
      "source": [
        "1. Write a Python Program to Find LCM?"
      ],
      "metadata": {
        "id": "scOIwqmQ1p3N"
      }
    },
    {
      "cell_type": "code",
      "source": [
        "def find_lcm(num1, num2):\n",
        "    if num1 > num2:\n",
        "        greater = num1\n",
        "    else:\n",
        "        greater = num2\n",
        "\n",
        "    while True:\n",
        "        if greater % num1 == 0 and greater % num2 == 0:\n",
        "            lcm = greater\n",
        "            break\n",
        "        greater += 1\n",
        "\n",
        "    return lcm\n",
        "\n",
        "print(find_lcm(12, 16)) "
      ],
      "metadata": {
        "colab": {
          "base_uri": "https://localhost:8080/"
        },
        "id": "bSkzWsUN1qNz",
        "outputId": "99eeb932-9938-4431-e041-27f9eb5a835d"
      },
      "execution_count": 1,
      "outputs": [
        {
          "output_type": "stream",
          "name": "stdout",
          "text": [
            "48\n"
          ]
        }
      ]
    },
    {
      "cell_type": "markdown",
      "source": [
        "2. Write a Python Program to Find HCF?"
      ],
      "metadata": {
        "id": "Rk60zkgr1qc5"
      }
    },
    {
      "cell_type": "code",
      "source": [
        "def find_hcf(x, y):\n",
        "   \n",
        "    while(y):\n",
        "        x, y = y, x % y\n",
        "\n",
        "    return x\n",
        "\n",
        "num1 = int(input(\"Enter first number: \"))\n",
        "num2 = int(input(\"Enter second number: \"))\n",
        "\n",
        "hcf = find_hcf(num1, num2)\n",
        "\n",
        "print(\"The HCF of\", num1, \"and\", num2, \"is\", hcf)"
      ],
      "metadata": {
        "colab": {
          "base_uri": "https://localhost:8080/"
        },
        "id": "uyKlS9dh1qsT",
        "outputId": "c4dd2a47-67d5-4600-93d6-0c331675e6b6"
      },
      "execution_count": 3,
      "outputs": [
        {
          "output_type": "stream",
          "name": "stdout",
          "text": [
            "Enter first number: 24\n",
            "Enter second number: 26\n",
            "The HCF of 24 and 26 is 2\n"
          ]
        }
      ]
    },
    {
      "cell_type": "markdown",
      "source": [
        "3. Write a Python Program to Convert Decimal to Binary, Octal and Hexadecimal?"
      ],
      "metadata": {
        "id": "9hJ5wYFY1q-P"
      }
    },
    {
      "cell_type": "code",
      "source": [
        "decimal_num = int(input(\"Enter a decimal number: \"))\n",
        "\n",
        "binary_num = bin(decimal_num)\n",
        "\n",
        "octal_num = oct(decimal_num)\n",
        "\n",
        "hex_num = hex(decimal_num)\n",
        "\n",
        "print(\"The decimal number\", decimal_num, \"in binary is\", binary_num)\n",
        "print(\"The decimal number\", decimal_num, \"in octal is\", octal_num)\n",
        "print(\"The decimal number\", decimal_num, \"in hexadecimal is\", hex_num)"
      ],
      "metadata": {
        "colab": {
          "base_uri": "https://localhost:8080/"
        },
        "id": "jXoWvafr1rOr",
        "outputId": "de70193e-93af-4fc0-8226-24d95d2a2a1b"
      },
      "execution_count": 4,
      "outputs": [
        {
          "output_type": "stream",
          "name": "stdout",
          "text": [
            "Enter a decimal number: 6\n",
            "The decimal number 6 in binary is 0b110\n",
            "The decimal number 6 in octal is 0o6\n",
            "The decimal number 6 in hexadecimal is 0x6\n"
          ]
        }
      ]
    },
    {
      "cell_type": "markdown",
      "source": [
        "4. Write a Python Program To Find ASCII value of a character?"
      ],
      "metadata": {
        "id": "InRDU9l-1reP"
      }
    },
    {
      "cell_type": "code",
      "source": [
        "character = input(\"Enter a character: \")\n",
        "\n",
        "# use the ord() function to get the ASCII value of the character\n",
        "ascii_value = ord(character)\n",
        "\n",
        "print(\"The ASCII value of\", character, \"is\", ascii_value)"
      ],
      "metadata": {
        "colab": {
          "base_uri": "https://localhost:8080/"
        },
        "id": "XYEYt9Lp1ruc",
        "outputId": "5af6129b-a0df-4f1e-ef57-9c0dd41aa204"
      },
      "execution_count": 8,
      "outputs": [
        {
          "output_type": "stream",
          "name": "stdout",
          "text": [
            "Enter a character: a\n",
            "The ASCII value of a is 97\n"
          ]
        }
      ]
    },
    {
      "cell_type": "markdown",
      "source": [
        "5. Write a Python Program to Make a Simple Calculator with 4 basic mathematical operations?"
      ],
      "metadata": {
        "id": "Za_Eam3D1r9O"
      }
    },
    {
      "cell_type": "code",
      "source": [
        "def add(x, y):\n",
        "    return x + y\n",
        "\n",
        "def subtract(x, y):\n",
        "    return x - y\n",
        "\n",
        "def multiply(x, y):\n",
        "    return x * y\n",
        "\n",
        "def divide(x, y):\n",
        "    return x / y\n",
        "\n",
        "num1 = float(input(\"Enter first number: \"))\n",
        "num2 = float(input(\"Enter second number: \"))\n",
        "op = input(\"Enter operation (+,-,*,/): \")\n",
        "\n",
        "if op == '+':\n",
        "    result = add(num1, num2)\n",
        "elif op == '-':\n",
        "    result = subtract(num1, num2)\n",
        "elif op == '*':\n",
        "    result = multiply(num1, num2)\n",
        "elif op == '/':\n",
        "    result = divide(num1, num2)\n",
        "else:\n",
        "    print(\"Invalid operator. Please try again.\")\n",
        "    exit()\n",
        "\n",
        "print(\"Result: \", result)\n",
        "\n",
        "\n"
      ],
      "metadata": {
        "colab": {
          "base_uri": "https://localhost:8080/"
        },
        "id": "FBamkNpf1sQh",
        "outputId": "6fe40f6c-8669-4308-8b9d-d74f3c4deb7f"
      },
      "execution_count": 10,
      "outputs": [
        {
          "output_type": "stream",
          "name": "stdout",
          "text": [
            "Enter first number: 7\n",
            "Enter second number: 8\n",
            "Enter operation (+,-,*,/): /\n",
            "Result:  0.875\n"
          ]
        }
      ]
    }
  ]
}