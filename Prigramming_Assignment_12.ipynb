{
  "nbformat": 4,
  "nbformat_minor": 0,
  "metadata": {
    "colab": {
      "provenance": []
    },
    "kernelspec": {
      "name": "python3",
      "display_name": "Python 3"
    },
    "language_info": {
      "name": "python"
    }
  },
  "cells": [
    {
      "cell_type": "markdown",
      "source": [
        "#programming Assignment 12"
      ],
      "metadata": {
        "id": "PHQqlil7-bLP"
      }
    },
    {
      "cell_type": "markdown",
      "source": [
        "1.Write a Python program to Extract Unique values dictionary values?"
      ],
      "metadata": {
        "id": "5HnH377c-cfQ"
      }
    },
    {
      "cell_type": "code",
      "source": [
        "in_dict = {1:'Rishikesh',2:'Badrinath',3:'Gangotri',4:'Yamunotri',5:'Kedarnath',6:'Tirupati',7:'Kedarnath'}\n",
        "print(in_dict.values())\n",
        "print(f'Unique Values: {list(set(in_dict.values()))}')"
      ],
      "metadata": {
        "colab": {
          "base_uri": "https://localhost:8080/"
        },
        "id": "QNE185wf-bko",
        "outputId": "146dadae-728b-4fa9-af61-b9c909cfffed"
      },
      "execution_count": 1,
      "outputs": [
        {
          "output_type": "stream",
          "name": "stdout",
          "text": [
            "dict_values(['Rishikesh', 'Badrinath', 'Gangotri', 'Yamunotri', 'Kedarnath', 'Tirupati', 'Kedarnath'])\n",
            "Unique Values: ['Rishikesh', 'Yamunotri', 'Tirupati', 'Gangotri', 'Kedarnath', 'Badrinath']\n"
          ]
        }
      ]
    },
    {
      "cell_type": "markdown",
      "source": [
        "2.Write a Python program to find the sum of all items in a dictionary?"
      ],
      "metadata": {
        "id": "qky_dLOX-ji8"
      }
    },
    {
      "cell_type": "code",
      "source": [
        "in_dict = {'Apple':30,'Mango':50,'Banana':30,'Guava':40,'PineApple':50}\n",
        "print('Sum of All items: ',sum(in_dict.values()))"
      ],
      "metadata": {
        "colab": {
          "base_uri": "https://localhost:8080/"
        },
        "id": "lfMsG6Rh-jzr",
        "outputId": "116519f0-a61c-4c98-ea2e-fda8979b6650"
      },
      "execution_count": 2,
      "outputs": [
        {
          "output_type": "stream",
          "name": "stdout",
          "text": [
            "Sum of All items:  200\n"
          ]
        }
      ]
    },
    {
      "cell_type": "markdown",
      "source": [
        "3.Write a Python program to Merging two Dictionaries?"
      ],
      "metadata": {
        "id": "VGgJDtoE-kEK"
      }
    },
    {
      "cell_type": "code",
      "source": [
        "course_details = {\n",
        "    'cousre_name':'Ineuron'\n",
        "}\n",
        "instructors = {\n",
        "    'course_instructors':['Sudhanshu Kumar','Krish Naik']\n",
        "}\n",
        "course_details.update(instructors)\n",
        "print(course_details)"
      ],
      "metadata": {
        "colab": {
          "base_uri": "https://localhost:8080/"
        },
        "id": "X-OuLW-E-kVM",
        "outputId": "2dcb2d4e-d759-48b8-df14-13c58d729ddd"
      },
      "execution_count": 3,
      "outputs": [
        {
          "output_type": "stream",
          "name": "stdout",
          "text": [
            "{'cousre_name': 'Ineuron', 'course_instructors': ['Sudhanshu Kumar', 'Krish Naik']}\n"
          ]
        }
      ]
    },
    {
      "cell_type": "markdown",
      "source": [
        "4.Write a Python program to convert key-values list to flat dictionary?"
      ],
      "metadata": {
        "id": "e3oWhKew-kkS"
      }
    },
    {
      "cell_type": "code",
      "source": [
        "in_list = [('A',10),('B',20),('C',30),('D',40),('E',50),('F',60),('G',70),('H',80),('I',90),('J',100)]\n",
        "\n",
        "dict(in_list)\n"
      ],
      "metadata": {
        "colab": {
          "base_uri": "https://localhost:8080/"
        },
        "id": "IaILqJsO-k1p",
        "outputId": "a9c3fef7-8646-4373-f869-aaf3a5e2594b"
      },
      "execution_count": 4,
      "outputs": [
        {
          "output_type": "execute_result",
          "data": {
            "text/plain": [
              "{'A': 10,\n",
              " 'B': 20,\n",
              " 'C': 30,\n",
              " 'D': 40,\n",
              " 'E': 50,\n",
              " 'F': 60,\n",
              " 'G': 70,\n",
              " 'H': 80,\n",
              " 'I': 90,\n",
              " 'J': 100}"
            ]
          },
          "metadata": {},
          "execution_count": 4
        }
      ]
    },
    {
      "cell_type": "markdown",
      "source": [
        "5.Write a Python program to insertion at the beginning in OrderedDict?"
      ],
      "metadata": {
        "id": "goItc1qdABAy"
      }
    },
    {
      "cell_type": "code",
      "source": [
        "from collections import OrderedDict\n",
        "dict_one = OrderedDict({'Apple':'Iphone','Microsoft':'Windows','Google':'chrome'})\n",
        "print('dict_one',dict_one)\n",
        "dict_two = {'Tesla':'SpaceX'}\n",
        "dict_one.update(dict_two)\n",
        "print('dict_one',dict_one)\n",
        "dict_one.move_to_end('Tesla',last=False)\n",
        "print('dict_one',dict_one)"
      ],
      "metadata": {
        "colab": {
          "base_uri": "https://localhost:8080/"
        },
        "id": "z2q_QVXcABVI",
        "outputId": "d87583c2-e2f7-47e8-9cc3-bb6d28c24ac7"
      },
      "execution_count": 5,
      "outputs": [
        {
          "output_type": "stream",
          "name": "stdout",
          "text": [
            "dict_one OrderedDict([('Apple', 'Iphone'), ('Microsoft', 'Windows'), ('Google', 'chrome')])\n",
            "dict_one OrderedDict([('Apple', 'Iphone'), ('Microsoft', 'Windows'), ('Google', 'chrome'), ('Tesla', 'SpaceX')])\n",
            "dict_one OrderedDict([('Tesla', 'SpaceX'), ('Apple', 'Iphone'), ('Microsoft', 'Windows'), ('Google', 'chrome')])\n"
          ]
        }
      ]
    },
    {
      "cell_type": "markdown",
      "source": [
        "6.Write a Python program to check order of character in string using OrderedDict()?"
      ],
      "metadata": {
        "id": "UU04jmMtBGlI"
      }
    },
    {
      "cell_type": "code",
      "source": [
        "from collections import OrderedDict\n",
        "\n",
        "initial_list = {'a': 1000, 'f': 200, 'd': 300, 'c': 400, 'b': 500, 'e': 600}\n",
        "print(initial_list)\n",
        "\n",
        "final_list = OrderedDict(dict(sorted(initial_list.items())))\n",
        "print(final_list)"
      ],
      "metadata": {
        "colab": {
          "base_uri": "https://localhost:8080/"
        },
        "id": "L7NRofpWBG0d",
        "outputId": "05da641b-dc8d-4006-8374-b0aa11bb17c7"
      },
      "execution_count": 6,
      "outputs": [
        {
          "output_type": "stream",
          "name": "stdout",
          "text": [
            "{'a': 1000, 'f': 200, 'd': 300, 'c': 400, 'b': 500, 'e': 600}\n",
            "OrderedDict([('a', 1000), ('b', 500), ('c', 400), ('d', 300), ('e', 600), ('f', 200)])\n"
          ]
        }
      ]
    },
    {
      "cell_type": "markdown",
      "source": [
        "7.Write a Python program to sort Python Dictionaries by Key or Value?"
      ],
      "metadata": {
        "id": "jtaBZuufBHHY"
      }
    },
    {
      "cell_type": "code",
      "source": [
        "d_items = {'Mango':100,'PineApple':22,'Banana':60,'Grapes':13}\n",
        "\n",
        "def sort_dict(in_dict,sort_type):\n",
        "    if sort_type == 'key':\n",
        "        print(dict(sorted(in_dict.items(), key=lambda x:x[0], reverse=False)))\n",
        "    else:\n",
        "        print(dict(sorted(in_dict.items(), key=lambda x:x[1], reverse=False)))\n",
        "        \n",
        "sort_dict(d_items,'key')        \n",
        "sort_dict(d_items,'value')"
      ],
      "metadata": {
        "colab": {
          "base_uri": "https://localhost:8080/"
        },
        "id": "UvohzosiBHbH",
        "outputId": "f856605a-6817-46fd-c376-6b97475525a6"
      },
      "execution_count": 8,
      "outputs": [
        {
          "output_type": "stream",
          "name": "stdout",
          "text": [
            "{'Banana': 60, 'Grapes': 13, 'Mango': 100, 'PineApple': 22}\n",
            "{'Grapes': 13, 'PineApple': 22, 'Banana': 60, 'Mango': 100}\n"
          ]
        }
      ]
    }
  ]
}