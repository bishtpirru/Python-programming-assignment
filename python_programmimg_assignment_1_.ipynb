{
  "nbformat": 4,
  "nbformat_minor": 0,
  "metadata": {
    "colab": {
      "provenance": []
    },
    "kernelspec": {
      "name": "python3",
      "display_name": "Python 3"
    },
    "language_info": {
      "name": "python"
    }
  },
  "cells": [
    {
      "cell_type": "markdown",
      "source": [
        "#Programming Assignment 1 "
      ],
      "metadata": {
        "id": "KgMIIpV8jZ0c"
      }
    },
    {
      "cell_type": "code",
      "source": [],
      "metadata": {
        "id": "z6fsSJr-jF4l"
      },
      "execution_count": null,
      "outputs": []
    },
    {
      "cell_type": "markdown",
      "source": [
        "1.Write a Python program to print 'Hello Python' ?"
      ],
      "metadata": {
        "id": "NTHgijHBaFVh"
      }
    },
    {
      "cell_type": "code",
      "source": [
        "print('Hello Python')"
      ],
      "metadata": {
        "colab": {
          "base_uri": "https://localhost:8080/"
        },
        "id": "rOtXSCB1aG2a",
        "outputId": "bc0abb66-8e86-4c47-f497-63504276a468"
      },
      "execution_count": null,
      "outputs": [
        {
          "output_type": "stream",
          "name": "stdout",
          "text": [
            "Hello Python\n"
          ]
        }
      ]
    },
    {
      "cell_type": "markdown",
      "source": [
        "2.Write a Python program to do arithmetic operations addition and division ?"
      ],
      "metadata": {
        "id": "fD2lFix5aMKb"
      }
    },
    {
      "cell_type": "code",
      "source": [
        "num1=60\n",
        "num2=40\n",
        "add= num1+num2\n",
        "print(\"addition of given no is:\",add)\n",
        "divition=num1/num2\n",
        "print(\"divition of given no is\",divition)"
      ],
      "metadata": {
        "id": "Zd1yTClAaHDo",
        "colab": {
          "base_uri": "https://localhost:8080/"
        },
        "outputId": "c0fdfd40-3bb5-4675-adc6-9457fb3a1368"
      },
      "execution_count": null,
      "outputs": [
        {
          "output_type": "stream",
          "name": "stdout",
          "text": [
            "addition of given no is: 100\n",
            "divition of given no is 1.5\n"
          ]
        }
      ]
    },
    {
      "cell_type": "markdown",
      "source": [],
      "metadata": {
        "id": "nclVhkUzaHcb"
      }
    },
    {
      "cell_type": "markdown",
      "source": [
        "3.Write a Python program to find the area of a triangle ?"
      ],
      "metadata": {
        "id": "HZ26vPXWeu36"
      }
    },
    {
      "cell_type": "code",
      "source": [
        "base = float(input(\"Enter the base of the triangle: \"))\n",
        "height = float(input(\"Enter the height of the triangle: \"))\n",
        "\n",
        "area = 0.5 * base * height\n",
        "\n",
        "print(\"The area of the triangle is:\", area)"
      ],
      "metadata": {
        "colab": {
          "base_uri": "https://localhost:8080/"
        },
        "id": "b98OoXrAfb89",
        "outputId": "240dfd94-8a3b-4ea5-df1f-4f611849648b"
      },
      "execution_count": null,
      "outputs": [
        {
          "output_type": "stream",
          "name": "stdout",
          "text": [
            "Enter the base of the triangle: 24\n",
            "Enter the height of the triangle: 26\n",
            "The area of the triangle is: 312.0\n"
          ]
        }
      ]
    },
    {
      "cell_type": "markdown",
      "source": [
        "4.Write a Python program to swap two variables ?"
      ],
      "metadata": {
        "id": "FgWsSuIRg_Jj"
      }
    },
    {
      "cell_type": "code",
      "source": [
        "a = 5\n",
        "b = 10\n",
        "\n",
        "# before swapping\n",
        "print(\"Before swapping:\")\n",
        "print(\"a =\", a)\n",
        "print(\"b =\", b)\n",
        "\n",
        "# swapping variables\n",
        "temp = a\n",
        "a = b\n",
        "b = temp\n",
        "\n",
        "# after swapping\n",
        "print(\"\\nAfter swapping:\")\n",
        "print(\"a =\", a)\n",
        "print(\"b =\", b)\n",
        "\n",
        "\n",
        "\n",
        "\n"
      ],
      "metadata": {
        "colab": {
          "base_uri": "https://localhost:8080/"
        },
        "id": "wqikXqSBg_eY",
        "outputId": "aa5c4547-4601-401e-edcb-6df4a4129276"
      },
      "execution_count": null,
      "outputs": [
        {
          "output_type": "stream",
          "name": "stdout",
          "text": [
            "Before swapping:\n",
            "a = 5\n",
            "b = 10\n",
            "\n",
            "After swapping:\n",
            "a = 10\n",
            "b = 5\n"
          ]
        }
      ]
    },
    {
      "cell_type": "markdown",
      "source": [
        "5.Write a Python program to generate a random number ?"
      ],
      "metadata": {
        "id": "37qr2_Fng_8l"
      }
    },
    {
      "cell_type": "code",
      "source": [
        "import random\n",
        "random_number = random.randint(1, 100)\n",
        "print(random_number)"
      ],
      "metadata": {
        "colab": {
          "base_uri": "https://localhost:8080/"
        },
        "id": "SfKlwrQchAVk",
        "outputId": "74c1a789-7c17-4fa7-82ee-5afcb530833d"
      },
      "execution_count": null,
      "outputs": [
        {
          "output_type": "stream",
          "name": "stdout",
          "text": [
            "48\n"
          ]
        }
      ]
    },
    {
      "cell_type": "markdown",
      "source": [],
      "metadata": {
        "id": "xCCi8guOhAur"
      }
    },
    {
      "cell_type": "code",
      "source": [],
      "metadata": {
        "id": "bR2cjNNrhA_1"
      },
      "execution_count": null,
      "outputs": []
    }
  ]
}