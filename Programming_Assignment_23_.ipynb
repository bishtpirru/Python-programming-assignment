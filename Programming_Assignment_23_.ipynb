{
  "nbformat": 4,
  "nbformat_minor": 0,
  "metadata": {
    "colab": {
      "provenance": []
    },
    "kernelspec": {
      "name": "python3",
      "display_name": "Python 3"
    },
    "language_info": {
      "name": "python"
    }
  },
  "cells": [
    {
      "cell_type": "markdown",
      "source": [
        "#Progrmming Assignmnet 23"
      ],
      "metadata": {
        "id": "GiIKR8xvrlKC"
      }
    },
    {
      "cell_type": "markdown",
      "source": [
        "1.Create a function that takes a number as an argument and returns True or False depending on whether the number is symmetrical or not. A number is symmetrical when it is the same as its reverse.\n",
        "\n",
        "Examples:\n",
        "\n",
        "is_symmetrical(7227) ➞ True\n",
        "\n",
        "is_symmetrical(12567) ➞ False\n",
        "\n",
        "is_symmetrical(44444444) ➞ True\n",
        "\n",
        "is_symmetrical(9939) ➞ False\n",
        "\n",
        "is_symmetrical(1112111) ➞ True"
      ],
      "metadata": {
        "id": "OK1jBO6DrlVd"
      }
    },
    {
      "cell_type": "code",
      "source": [
        "def is_symmetrical(in_num):\n",
        "    if str(in_num) == str(in_num)[::-1]:\n",
        "        print(f'{in_num} ➞ {True}')\n",
        "    else:\n",
        "        print(f'{in_num} ➞ {False}')\n",
        "\n",
        "is_symmetrical(7227)\n",
        "is_symmetrical(12567)\n",
        "is_symmetrical(44444444)\n",
        "is_symmetrical(9939)\n",
        "is_symmetrical(1112111)"
      ],
      "metadata": {
        "colab": {
          "base_uri": "https://localhost:8080/"
        },
        "id": "DHM-MzSYrllZ",
        "outputId": "4a5b5df0-c724-40b1-9260-50e653303e8a"
      },
      "execution_count": 1,
      "outputs": [
        {
          "output_type": "stream",
          "name": "stdout",
          "text": [
            "7227 ➞ True\n",
            "12567 ➞ False\n",
            "44444444 ➞ True\n",
            "9939 ➞ False\n",
            "1112111 ➞ True\n"
          ]
        }
      ]
    },
    {
      "cell_type": "markdown",
      "source": [
        "2.Given a string of numbers separated by a comma and space, return the product of the numbers.\n",
        "\n",
        "Examples:\n",
        "\n",
        "multiply_nums(\"2, 3\") ➞ 6\n",
        "\n",
        "multiply_nums(\"1, 2, 3, 4\") ➞ 24\n",
        "\n",
        "multiply_nums(\"54, 75, 453, 0\") ➞ 0\n",
        "\n",
        "multiply_nums(\"10, -2\") ➞ -20\n",
        "\n"
      ],
      "metadata": {
        "id": "7eshBRHorlyx"
      }
    },
    {
      "cell_type": "code",
      "source": [
        "def multiply_nums(in_string):\n",
        "    out_string = in_string.replace(' ','').split(',')\n",
        "    out_num = 1\n",
        "    for ele in out_string:\n",
        "        out_num *= int(ele)\n",
        "    print(f'{in_string} ➞ {out_num}')\n",
        "    \n",
        "multiply_nums(\"2, 3\")\n",
        "multiply_nums(\"1, 2, 3, 4\")\n",
        "multiply_nums(\"54, 75, 453, 0\")\n",
        "multiply_nums(\"10, -2\")"
      ],
      "metadata": {
        "colab": {
          "base_uri": "https://localhost:8080/"
        },
        "id": "bUjpkgQNrmAD",
        "outputId": "d1dd36bb-3090-46d8-9f29-d1ad6beeedd7"
      },
      "execution_count": 2,
      "outputs": [
        {
          "output_type": "stream",
          "name": "stdout",
          "text": [
            "2, 3 ➞ 6\n",
            "1, 2, 3, 4 ➞ 24\n",
            "54, 75, 453, 0 ➞ 0\n",
            "10, -2 ➞ -20\n"
          ]
        }
      ]
    },
    {
      "cell_type": "markdown",
      "source": [
        "3.Create a function that squares every digit of a number.\n",
        "Examples:\n",
        "\n",
        "square_digits(9119) ➞ 811181\n",
        "\n",
        "square_digits(2483) ➞ 416649\n",
        "\n",
        "square_digits(3212) ➞ 9414\n",
        "\n",
        "Notes:\n",
        "\n",
        "The function receives an integer and must return an integer."
      ],
      "metadata": {
        "id": "BnlKW-XjrmYz"
      }
    },
    {
      "cell_type": "code",
      "source": [
        "def square_digits(in_num):\n",
        "    in_list = [str(int(ele)**2) for ele in str(in_num)]\n",
        "    out_list = ''.join(in_list)\n",
        "    print(f'{in_num} ➞ {int(out_list)}')\n",
        "\n",
        "square_digits(9119)\n",
        "square_digits(2483)\n",
        "square_digits(3212)"
      ],
      "metadata": {
        "colab": {
          "base_uri": "https://localhost:8080/"
        },
        "id": "Y_n8q7brspWy",
        "outputId": "322bf03c-00f7-4b33-cef9-50f1139f0acb"
      },
      "execution_count": 3,
      "outputs": [
        {
          "output_type": "stream",
          "name": "stdout",
          "text": [
            "9119 ➞ 811181\n",
            "2483 ➞ 416649\n",
            "3212 ➞ 9414\n"
          ]
        }
      ]
    },
    {
      "cell_type": "markdown",
      "source": [
        "4.Create a function that sorts a list and removes all duplicate items from it.\n",
        "\n",
        "Examples:\n",
        "\n",
        "setify([1, 3, 3, 5, 5]) ➞ [1, 3, 5]\n",
        "\n",
        "setify([4, 4, 4, 4]) ➞ [4]\n",
        "\n",
        "setify([5, 7, 8, 9, 10, 15]) ➞ [5, 7, 8, 9, 10, 15]\n",
        "\n",
        "setify([3, 3, 3, 2, 1]) ➞ [1, 2, 3]"
      ],
      "metadata": {
        "id": "bQdVNnVcrnAs"
      }
    },
    {
      "cell_type": "code",
      "source": [
        "def setify(in_list):\n",
        "    out_list = sorted(set(in_list))\n",
        "    print(f'{in_list} ➞ {out_list}')\n",
        "    \n",
        "setify([1, 3, 3, 5, 5]) \n",
        "setify([4, 4, 4, 4])\n",
        "setify([5, 7, 8, 9, 10, 15])\n",
        "setify([3, 3, 3, 2, 1])"
      ],
      "metadata": {
        "colab": {
          "base_uri": "https://localhost:8080/"
        },
        "id": "X8GkQ8GGrnQ5",
        "outputId": "53213b8b-bd84-4000-c8d5-1d6dd4b99735"
      },
      "execution_count": 4,
      "outputs": [
        {
          "output_type": "stream",
          "name": "stdout",
          "text": [
            "[1, 3, 3, 5, 5] ➞ [1, 3, 5]\n",
            "[4, 4, 4, 4] ➞ [4]\n",
            "[5, 7, 8, 9, 10, 15] ➞ [5, 7, 8, 9, 10, 15]\n",
            "[3, 3, 3, 2, 1] ➞ [1, 2, 3]\n"
          ]
        }
      ]
    },
    {
      "cell_type": "markdown",
      "source": [
        "5.Create a function that returns the mean of all digits.\n",
        "\n",
        "Examples:\n",
        "\n",
        "mean(42) ➞ 3\n",
        "\n",
        "mean(12345) ➞ 3\n",
        "\n",
        "mean(666) ➞ 6\n",
        "\n",
        "Notes:\n",
        "\n",
        "1.The mean of all digits is the sum of digits / how many digits there are (e.g. mean of digits in 512 is (5+1+2)/3(number of digits) = 8/3=2).\n",
        "2.The mean will always be an integer."
      ],
      "metadata": {
        "id": "faZfJ9Rks_I3"
      }
    },
    {
      "cell_type": "code",
      "source": [
        "def mean(in_num):\n",
        "    in_list = [int(ele) for ele in str(in_num)]\n",
        "    out_num = sum(in_list)/len(str(in_num))\n",
        "    print(f'Mean of {in_num}  ➞ {out_num:.0f}')\n",
        "    \n",
        "mean(42)\n",
        "mean(12345)\n",
        "mean(666)"
      ],
      "metadata": {
        "colab": {
          "base_uri": "https://localhost:8080/"
        },
        "id": "aBrFbd0Hs_Wg",
        "outputId": "ed9018fc-b0cf-4983-8778-f53ab49d356f"
      },
      "execution_count": 5,
      "outputs": [
        {
          "output_type": "stream",
          "name": "stdout",
          "text": [
            "Mean of 42  ➞ 3\n",
            "Mean of 12345  ➞ 3\n",
            "Mean of 666  ➞ 6\n"
          ]
        }
      ]
    }
  ]
}