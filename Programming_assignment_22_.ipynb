{
  "nbformat": 4,
  "nbformat_minor": 0,
  "metadata": {
    "colab": {
      "provenance": []
    },
    "kernelspec": {
      "name": "python3",
      "display_name": "Python 3"
    },
    "language_info": {
      "name": "python"
    }
  },
  "cells": [
    {
      "cell_type": "markdown",
      "source": [
        "#Programming Assignment 22"
      ],
      "metadata": {
        "id": "3INDnr0zo5rC"
      }
    },
    {
      "cell_type": "code",
      "source": [],
      "metadata": {
        "id": "Yct0m7dnrIGb"
      },
      "execution_count": null,
      "outputs": []
    },
    {
      "cell_type": "markdown",
      "source": [
        "1.Create a function that takes three parameters where:\n",
        "\n",
        " x is the start of the range (inclusive).\n",
        "\n",
        " y is the end of the range (inclusive).\n",
        "\n",
        " n is the divisor to be checked against.\n",
        "\n",
        "Return an ordered list with numbers in the range that are divisible by the third parameter n. Return an empty list if there are no numbers that are divisible by n. Examples:\n",
        "\n",
        " list_operation(1, 10, 3) ➞ [3, 6, 9]\n",
        "\n",
        " list_operation(7, 9, 2) ➞ [8]\n",
        "\n",
        " list_operation(15, 20, 7) ➞ []"
      ],
      "metadata": {
        "id": "HVoOGDMdo53X"
      }
    },
    {
      "cell_type": "code",
      "source": [
        "def list_operation(start,end,divisor):\n",
        "    out_list = []\n",
        "    for ele in range(start,end+1):\n",
        "        if ele%divisor == 0:\n",
        "            out_list.append(ele)\n",
        "    print(f'Output: ➞ {out_list}')\n",
        "\n",
        "list_operation(1, 10, 3)\n",
        "list_operation(7, 9, 2)\n",
        "list_operation(15, 20, 7)"
      ],
      "metadata": {
        "colab": {
          "base_uri": "https://localhost:8080/"
        },
        "id": "CpsXqHhqo6He",
        "outputId": "32b0a0e3-bb74-4e5f-c5e1-ca6b46c03fed"
      },
      "execution_count": 1,
      "outputs": [
        {
          "output_type": "stream",
          "name": "stdout",
          "text": [
            "Output: ➞ [3, 6, 9]\n",
            "Output: ➞ [8]\n",
            "Output: ➞ []\n"
          ]
        }
      ]
    },
    {
      "cell_type": "markdown",
      "source": [
        "2.Create a function that takes in two lists and returns True if the second list follows the first list by one element, and False otherwise. In other words, determine if the second list is the first list shifted to the right by 1.\n",
        "\n",
        "Examples:\n",
        "\n",
        "simon_says([1, 2], [5, 1]) ➞ True\n",
        "\n",
        "simon_says([1, 2], [5, 5]) ➞ False\n",
        "\n",
        "simon_says([1, 2, 3, 4, 5], [0, 1, 2, 3, 4]) ➞ True\n",
        "\n",
        "simon_says([1, 2, 3, 4, 5], [5, 5, 1, 2, 3]) ➞ False\n",
        "\n",
        "Notes:\n",
        "1. Both input lists will be of the same length, and will have a minimum length of 2.\n",
        "2. The values of the 0-indexed element in the second list and the n-1th indexed element in the first list do not matter."
      ],
      "metadata": {
        "id": "uvAgQRmEo6UU"
      }
    },
    {
      "cell_type": "code",
      "source": [
        "def simon_says(in_list_1,in_list_2):\n",
        "    if len(in_list_1) == len(in_list_1) and len(in_list_1) >=2 and len(in_list_1) >=2:\n",
        "        if(in_list_1[:-1] == in_list_2[1:]):\n",
        "            print(f'{in_list_1,in_list_2} ➞ {True}')\n",
        "        else:\n",
        "            print(f'{in_list_1,in_list_2} ➞ {False}')\n",
        "            \n",
        "simon_says([1, 2], [5, 1])\n",
        "simon_says([1, 2], [5, 5])\n",
        "simon_says([1, 2, 3, 4, 5], [0, 1, 2, 3, 4])\n",
        "simon_says([1, 2, 3, 4, 5], [5, 5, 1, 2, 3])"
      ],
      "metadata": {
        "colab": {
          "base_uri": "https://localhost:8080/"
        },
        "id": "37LcSMwYo8-e",
        "outputId": "4f9832c8-2ffb-47ce-9655-fd5f3526591f"
      },
      "execution_count": 2,
      "outputs": [
        {
          "output_type": "stream",
          "name": "stdout",
          "text": [
            "([1, 2], [5, 1]) ➞ True\n",
            "([1, 2], [5, 5]) ➞ False\n",
            "([1, 2, 3, 4, 5], [0, 1, 2, 3, 4]) ➞ True\n",
            "([1, 2, 3, 4, 5], [5, 5, 1, 2, 3]) ➞ False\n"
          ]
        }
      ]
    },
    {
      "cell_type": "markdown",
      "source": [
        "3.A group of friends have decided to start a secret society. The name will be the first letter of each of their names, sorted in a alphabetical order ? Create a function that takes in a list of names and returns the name of the secret society ?\n",
        "\n",
        "Examples:\n",
        "\n",
        "society_name([\"Adam\", \"Sarah\", \"Malcolm\"]) ➞ \"AMS\"\n",
        "\n",
        "society_name([\"Harry\", \"Newt\", \"Luna\", \"Cho\"]) ➞ \"CHLN\"\n",
        "\n",
        "\n",
        "society_name([\"Phoebe\", \"Chandler\", \"Rachel\", \"Ross\", \"Monica\", \"Joey\"])"
      ],
      "metadata": {
        "id": "Qm2EniSfo6t7"
      }
    },
    {
      "cell_type": "code",
      "source": [
        "def society_name(in_list):\n",
        "    out_string = []\n",
        "    for ele in in_list:\n",
        "        out_string.append(ele[0])\n",
        "    output = ''.join(sorted(out_string))\n",
        "    print(f'{in_list} ➞ {output}')\n",
        "\n",
        "society_name([\"Adam\", \"Sarah\", \"Malcolm\"])\n",
        "society_name([\"Harry\", \"Newt\", \"Luna\", \"Cho\"])\n",
        "society_name([\"Phoebe\", \"Chandler\", \"Rachel\", \"Ross\", \"Monica\", \"Joey\"])"
      ],
      "metadata": {
        "colab": {
          "base_uri": "https://localhost:8080/"
        },
        "id": "8Qq8um4ao92A",
        "outputId": "e654caca-bf00-41a7-ddab-c89ecbb4b67c"
      },
      "execution_count": 3,
      "outputs": [
        {
          "output_type": "stream",
          "name": "stdout",
          "text": [
            "['Adam', 'Sarah', 'Malcolm'] ➞ AMS\n",
            "['Harry', 'Newt', 'Luna', 'Cho'] ➞ CHLN\n",
            "['Phoebe', 'Chandler', 'Rachel', 'Ross', 'Monica', 'Joey'] ➞ CJMPRR\n"
          ]
        }
      ]
    },
    {
      "cell_type": "markdown",
      "source": [
        "4.An isogram is a word that has no duplicate letters. Create a function that takes a string and returns either True or False depending on whether or not it's an \"isogram\".\n",
        "\n",
        "Examples:\n",
        "\n",
        "is_isogram(\"Algorism\") ➞ True\n",
        "\n",
        "is_isogram(\"PasSword\") ➞ False\n",
        "\n",
        "Not case sensitive.\n",
        "\n",
        "is_isogram(\"Consecutive\") ➞ False\n",
        "\n",
        "Notes:\n",
        "\n",
        "Ignore letter case (should not be case sensitive).\n",
        "\n",
        "All test cases contain valid one word strings."
      ],
      "metadata": {
        "id": "1CWUuzG9o7ON"
      }
    },
    {
      "cell_type": "code",
      "source": [
        "def is_isogram(in_string):\n",
        "    lower_in_string = in_string.lower()\n",
        "    if len(lower_in_string) == len(set(lower_in_string)):\n",
        "        print(f'{in_string} ➞ {True}')\n",
        "    else:\n",
        "        print(f'{in_string} ➞ {False}')\n",
        "    \n",
        "is_isogram(\"Algorism\")\n",
        "is_isogram(\"PasSword\")\n",
        "is_isogram(\"Consecutive\")"
      ],
      "metadata": {
        "colab": {
          "base_uri": "https://localhost:8080/"
        },
        "id": "-WnasOtJo7fD",
        "outputId": "7f765ad4-e910-42ab-d4ef-c4956abb7b8d"
      },
      "execution_count": 4,
      "outputs": [
        {
          "output_type": "stream",
          "name": "stdout",
          "text": [
            "Algorism ➞ True\n",
            "PasSword ➞ False\n",
            "Consecutive ➞ False\n"
          ]
        }
      ]
    },
    {
      "cell_type": "markdown",
      "source": [
        "5.Create a function that takes a string and returns True or False, depending on whether the characters are in order or not ?\n",
        "\n",
        "Examples:\n",
        "\n",
        "is_in_order(\"abc\") ➞ True\n",
        "\n",
        "is_in_order(\"edabit\") ➞ False\n",
        "\n",
        "is_in_order(\"123\") ➞ True\n",
        "\n",
        "is_in_order(\"xyzz\") ➞ True\n",
        "\n",
        "Notes:\n",
        "\n",
        "You don't have to handle empty strings."
      ],
      "metadata": {
        "id": "fL9uZlRPqoeY"
      }
    },
    {
      "cell_type": "code",
      "source": [
        "def is_in_order(in_string):\n",
        "    in_string_sorted = ''.join(sorted(in_string))\n",
        "    if in_string == in_string_sorted:\n",
        "        print(f'{in_string} ➞ {True}')\n",
        "    else:\n",
        "       print(f'{in_string} ➞ {False}')\n",
        "\n",
        "is_in_order(\"abc\")\n",
        "is_in_order(\"edabit\")\n",
        "is_in_order(\"123\")\n",
        "is_in_order(\"xyzz\")"
      ],
      "metadata": {
        "colab": {
          "base_uri": "https://localhost:8080/"
        },
        "id": "7AipI1v2qosF",
        "outputId": "98ff2977-c56e-43bc-967a-785163718e64"
      },
      "execution_count": 5,
      "outputs": [
        {
          "output_type": "stream",
          "name": "stdout",
          "text": [
            "abc ➞ True\n",
            "edabit ➞ False\n",
            "123 ➞ True\n",
            "xyzz ➞ True\n"
          ]
        }
      ]
    }
  ]
}