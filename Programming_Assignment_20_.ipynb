{
  "nbformat": 4,
  "nbformat_minor": 0,
  "metadata": {
    "colab": {
      "provenance": []
    },
    "kernelspec": {
      "name": "python3",
      "display_name": "Python 3"
    },
    "language_info": {
      "name": "python"
    }
  },
  "cells": [
    {
      "cell_type": "markdown",
      "source": [
        "#Programming Assignment 20"
      ],
      "metadata": {
        "id": "PfgEhlTdlJV2"
      }
    },
    {
      "cell_type": "markdown",
      "source": [
        "1.Create a function that takes a list of strings and integers, and filters out the list so that it returns a list of integers only.\n",
        "\n",
        "Examples:\n",
        "\n",
        "filter_list([1, 2, 3, \"a\", \"b\", 4]) ➞ [1, 2, 3, 4]\n",
        "\n",
        "filter_list([\"A\", 0, \"Edabit\", 1729, \"Python\", \"1729\"]) ➞ [0, 1729]\n",
        "\n",
        "filter_list([\"Nothing\", \"here\"]) ➞ []"
      ],
      "metadata": {
        "id": "W8nONtfclJkQ"
      }
    },
    {
      "cell_type": "code",
      "source": [
        "def filter_list(in_list):\n",
        "    out_list = []\n",
        "    for ele in in_list:\n",
        "        if type(ele) == int:\n",
        "            out_list.append(ele)\n",
        "    print(f'Output ➞ {out_list}')\n",
        "\n",
        "filter_list([1, 2, 3, \"a\", \"b\", 4])\n",
        "filter_list([\"A\", 0, \"Edabit\", 1729, \"Python\", \"1729\"])\n",
        "filter_list([\"Nothing\", \"here\"])"
      ],
      "metadata": {
        "colab": {
          "base_uri": "https://localhost:8080/"
        },
        "id": "RoMj7d-alJ5u",
        "outputId": "c566dfc8-fbcd-4b2e-bf59-b14a871f7ced"
      },
      "execution_count": 1,
      "outputs": [
        {
          "output_type": "stream",
          "name": "stdout",
          "text": [
            "Output ➞ [1, 2, 3, 4]\n",
            "Output ➞ [0, 1729]\n",
            "Output ➞ []\n"
          ]
        }
      ]
    },
    {
      "cell_type": "markdown",
      "source": [
        "2.Given a list of numbers, create a function which returns the list but with each element's index in the list added to itself. This means you add 0 to the number at index 0, add 1 to the number at index 1, etc...\n",
        "\n",
        "Examples:\n",
        "\n",
        "add_indexes([0, 0, 0, 0, 0]) ➞ [0, 1, 2, 3, 4]\n",
        "\n",
        "add_indexes([1, 2, 3, 4, 5]) ➞ [1, 3, 5, 7, 9]\n",
        "\n",
        "add_indexes([5, 4, 3, 2, 1]) ➞ [5, 5, 5, 5, 5]"
      ],
      "metadata": {
        "id": "dKD-0sMAlKNb"
      }
    },
    {
      "cell_type": "code",
      "source": [
        "def add_indexes(in_list):\n",
        "    out_list = []\n",
        "    for ele in range(len(in_list)):\n",
        "        out_list.append(ele+in_list[ele])\n",
        "    print(f'{in_list} ➞ {out_list}')\n",
        "        \n",
        "add_indexes([0, 0, 0, 0, 0])\n",
        "add_indexes([1, 2, 3, 4, 5])\n",
        "add_indexes([5, 4, 3, 2, 1])"
      ],
      "metadata": {
        "colab": {
          "base_uri": "https://localhost:8080/"
        },
        "id": "oCYAJzWWlKcC",
        "outputId": "9c20d7bc-86a1-4049-ea08-e047c3ebe94d"
      },
      "execution_count": 2,
      "outputs": [
        {
          "output_type": "stream",
          "name": "stdout",
          "text": [
            "[0, 0, 0, 0, 0] ➞ [0, 1, 2, 3, 4]\n",
            "[1, 2, 3, 4, 5] ➞ [1, 3, 5, 7, 9]\n",
            "[5, 4, 3, 2, 1] ➞ [5, 5, 5, 5, 5]\n"
          ]
        }
      ]
    },
    {
      "cell_type": "markdown",
      "source": [
        "3.Create a function that takes the height and radius of a cone as arguments and returns the volume of the cone rounded to the nearest hundredth. See the resources tab for the formula.\n",
        "\n",
        "Examples:\n",
        "\n",
        "cone_volume(3, 2) ➞ 12.57\n",
        "\n",
        "cone_volume(15, 6) ➞ 565.49\n",
        "\n",
        "cone_volume(18, 0) ➞ 0"
      ],
      "metadata": {
        "id": "miSDwKwIlKox"
      }
    },
    {
      "cell_type": "code",
      "source": [
        "import math\n",
        "\n",
        "def cube_volume(height, radius):\n",
        "    output = ((math.pi)*pow(radius,2))*(height/3)\n",
        "    print(f'Output ➞ {output:.2f}')\n",
        "\n",
        "cube_volume(3,2) \n",
        "cube_volume(15,6)    \n",
        "cube_volume(18,0) "
      ],
      "metadata": {
        "colab": {
          "base_uri": "https://localhost:8080/"
        },
        "id": "cGJ2Xo9olK3t",
        "outputId": "5846f391-4b71-40c3-806d-8c484caa7130"
      },
      "execution_count": 3,
      "outputs": [
        {
          "output_type": "stream",
          "name": "stdout",
          "text": [
            "Output ➞ 12.57\n",
            "Output ➞ 565.49\n",
            "Output ➞ 0.00\n"
          ]
        }
      ]
    },
    {
      "cell_type": "markdown",
      "source": [
        "4.This Triangular Number Sequence is generated from a pattern of dots that form a triangle.\n",
        "\n",
        "The first 5 numbers of the sequence, or dots, are: 1, 3, 6, 10, 15\n",
        "This means that the first triangle has just one dot, the second one has three dots, the third one has 6 dots and so on. Write a function that gives the number of dots with its corresponding triangle number of the sequence.\n",
        "\n",
        "Examples:\n",
        "\n",
        "triangle(1) ➞ 1\n",
        "\n",
        "triangle(6) ➞ 21\n",
        "\n",
        "triangle(215) ➞ 23220"
      ],
      "metadata": {
        "id": "aPqi9Fx1lLGX"
      }
    },
    {
      "cell_type": "code",
      "source": [
        "def triangle(in_num):\n",
        "    print(f'Output ➞ {int((in_num)*((in_num+1)/2))}')\n",
        "\n",
        "triangle(1)\n",
        "triangle(6)\n",
        "triangle(215)"
      ],
      "metadata": {
        "colab": {
          "base_uri": "https://localhost:8080/"
        },
        "id": "I4LwxTc2lLY-",
        "outputId": "d9e84b64-cf62-4cb6-9609-c5f1aa8806c3"
      },
      "execution_count": 4,
      "outputs": [
        {
          "output_type": "stream",
          "name": "stdout",
          "text": [
            "Output ➞ 1\n",
            "Output ➞ 21\n",
            "Output ➞ 23220\n"
          ]
        }
      ]
    },
    {
      "cell_type": "markdown",
      "source": [
        "5.Create a function that takes a list of numbers between 1 and 10 (excluding one number) and returns the missing number.\n",
        "\n",
        "Examples:\n",
        "\n",
        "missing_num([1, 2, 3, 4, 6, 7, 8, 9, 10]) ➞ 5\n",
        "\n",
        "missing_num([7, 2, 3, 6, 5, 9, 1, 4, 8]) ➞ 10\n",
        "\n",
        "missing_num([10, 5, 1, 2, 4, 6, 8, 3, 9]) ➞ 7"
      ],
      "metadata": {
        "id": "1ozsKw_5mXma"
      }
    },
    {
      "cell_type": "code",
      "source": [
        "def missing_num(in_list):\n",
        "    for i in range(1,11):\n",
        "        if i not in in_list:\n",
        "            print(f'{in_list} ➞ {i}')\n",
        "\n",
        "missing_num([1, 2, 3, 4, 6, 7, 8, 9, 10])\n",
        "missing_num([7, 2, 3, 6, 5, 9, 1, 4, 8])\n",
        "missing_num([10, 5, 1, 2, 4, 6, 8, 3, 9])"
      ],
      "metadata": {
        "colab": {
          "base_uri": "https://localhost:8080/"
        },
        "id": "WyYiQTsVmX0B",
        "outputId": "80552118-00ce-45c7-fda0-2b5de8c55196"
      },
      "execution_count": 5,
      "outputs": [
        {
          "output_type": "stream",
          "name": "stdout",
          "text": [
            "[1, 2, 3, 4, 6, 7, 8, 9, 10] ➞ 5\n",
            "[7, 2, 3, 6, 5, 9, 1, 4, 8] ➞ 10\n",
            "[10, 5, 1, 2, 4, 6, 8, 3, 9] ➞ 7\n"
          ]
        }
      ]
    }
  ]
}