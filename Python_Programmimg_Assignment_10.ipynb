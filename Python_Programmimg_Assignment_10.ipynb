{
  "nbformat": 4,
  "nbformat_minor": 0,
  "metadata": {
    "colab": {
      "provenance": []
    },
    "kernelspec": {
      "name": "python3",
      "display_name": "Python 3"
    },
    "language_info": {
      "name": "python"
    }
  },
  "cells": [
    {
      "cell_type": "markdown",
      "source": [
        "#Programmimg Assignment"
      ],
      "metadata": {
        "id": "Bau2e0uGMm02"
      }
    },
    {
      "cell_type": "markdown",
      "source": [
        "1.Write a Python Program to find sum of elements in a list ?"
      ],
      "metadata": {
        "id": "a7-Yhfk-Mqc6"
      }
    },
    {
      "cell_type": "code",
      "source": [
        "def sumofList():\n",
        "    in_ele = int(input('Enter the No of Entries in a List: '))\n",
        "    in_list = []\n",
        "    for itr in range(in_ele):\n",
        "        in_list.append(int(input('Enter a element: ')))\n",
        "    print(f'Sum of Elements: {sum(in_list)}')\n",
        "\n",
        "sumofList()"
      ],
      "metadata": {
        "colab": {
          "base_uri": "https://localhost:8080/"
        },
        "id": "9jCKjMO7MnF-",
        "outputId": "89c8ef1b-4ba1-41db-8ba0-12c729701f95"
      },
      "execution_count": 3,
      "outputs": [
        {
          "output_type": "stream",
          "name": "stdout",
          "text": [
            "Enter the No of Entries in a List: 4\n",
            "Enter a element: 3\n",
            "Enter a element: 2\n",
            "Enter a element: 5\n",
            "Enter a element: 1\n",
            "Sum of Elements: 11\n"
          ]
        }
      ]
    },
    {
      "cell_type": "markdown",
      "source": [
        "2.Write a Python Program to multiply all numbers in the list ?"
      ],
      "metadata": {
        "id": "7Tr25-QdMnW-"
      }
    },
    {
      "cell_type": "code",
      "source": [
        "def mulofList():\n",
        "    in_ele = int(input('Enter the No of Entries in a List: '))\n",
        "    in_list = []\n",
        "    mul = 1\n",
        "    for itr in range(in_ele):\n",
        "        in_list.append(int(input('Enter a element: ')))\n",
        "    for ele in in_list:\n",
        "        mul = mul * ele\n",
        "    print(mul)\n",
        "\n",
        "mulofList()"
      ],
      "metadata": {
        "colab": {
          "base_uri": "https://localhost:8080/"
        },
        "id": "56cUfkOgMnop",
        "outputId": "15e4f3fa-2129-4e16-96dd-d84bd033412a"
      },
      "execution_count": 4,
      "outputs": [
        {
          "output_type": "stream",
          "name": "stdout",
          "text": [
            "Enter the No of Entries in a List: 3\n",
            "Enter a element: 5\n",
            "Enter a element: 6\n",
            "Enter a element: 7\n",
            "210\n"
          ]
        }
      ]
    },
    {
      "cell_type": "markdown",
      "source": [
        "3.Write a Python Program to find smallest number in the list ?"
      ],
      "metadata": {
        "id": "KcMHXzAwMn4Y"
      }
    },
    {
      "cell_type": "code",
      "source": [
        "def smallEleInList():\n",
        "    in_ele = int(input('Enter the No of elements in a list: '))\n",
        "    in_list = []\n",
        "    for ele in range(in_ele):\n",
        "        in_list.append(int(input('Enter a Element: ')))\n",
        "    print(f'The Smallest Element in {in_list} is {sorted(in_list)[0]}')\n",
        "smallEleInList()"
      ],
      "metadata": {
        "colab": {
          "base_uri": "https://localhost:8080/"
        },
        "id": "9Y-2txIQMoJa",
        "outputId": "f52d8c39-0c81-4993-aac0-342e3fe43bde"
      },
      "execution_count": 6,
      "outputs": [
        {
          "output_type": "stream",
          "name": "stdout",
          "text": [
            "Enter the No of elements in a list: 4\n",
            "Enter a Element: 43\n",
            "Enter a Element: 23\n",
            "Enter a Element: 12\n",
            "Enter a Element: 21\n",
            "The Smallest Element in [43, 23, 12, 21] is 12\n"
          ]
        }
      ]
    },
    {
      "cell_type": "markdown",
      "source": [
        "4.Write a Python Program to find largest number in the list ?"
      ],
      "metadata": {
        "id": "WL8Dliy9Moe1"
      }
    },
    {
      "cell_type": "code",
      "source": [
        "def largestEleInList():\n",
        "    in_ele = int(input('Enter the No of elements in a list: '))\n",
        "    in_list = []\n",
        "    for ele in range(in_ele):\n",
        "        in_list.append(int(input('Enter a Element: ')))\n",
        "    print(f'The Largest Element in {in_list} is {sorted(in_list, reverse=True)[0]}')\n",
        "\n",
        "largestEleInList()"
      ],
      "metadata": {
        "colab": {
          "base_uri": "https://localhost:8080/"
        },
        "id": "up5wXKb1Mov3",
        "outputId": "4b1746e7-75f0-4eba-ecd8-bd88384aecf8"
      },
      "execution_count": 7,
      "outputs": [
        {
          "output_type": "stream",
          "name": "stdout",
          "text": [
            "Enter the No of elements in a list: 3\n",
            "Enter a Element: 56\n",
            "Enter a Element: 43\n",
            "Enter a Element: 22\n",
            "The Largest Element in [56, 43, 22] is 56\n"
          ]
        }
      ]
    },
    {
      "cell_type": "markdown",
      "source": [
        "5.Write a Python Program to find second largest number in the list ?"
      ],
      "metadata": {
        "id": "gfZofTbrOY8L"
      }
    },
    {
      "cell_type": "code",
      "source": [
        "def secondLargestEleInList():\n",
        "    in_ele = int(input('Enter the No of elements in a list: '))\n",
        "    in_list = []\n",
        "    for ele in range(in_ele):\n",
        "        in_list.append(int(input('Enter a Element: ')))\n",
        "    print(f'The Second Largest Element in {in_list} is {sorted(in_list, reverse=True)[1]}')\n",
        "\n",
        "secondLargestEleInList()"
      ],
      "metadata": {
        "colab": {
          "base_uri": "https://localhost:8080/"
        },
        "id": "T9a5GgWzOZeC",
        "outputId": "6b20b99c-5b72-4840-e46c-d238f969aab3"
      },
      "execution_count": 8,
      "outputs": [
        {
          "output_type": "stream",
          "name": "stdout",
          "text": [
            "Enter the No of elements in a list: 4\n",
            "Enter a Element: 12\n",
            "Enter a Element: 13\n",
            "Enter a Element: 14\n",
            "Enter a Element: 23\n",
            "The Second Largest Element in [12, 13, 14, 23] is 14\n"
          ]
        }
      ]
    },
    {
      "cell_type": "markdown",
      "source": [
        "6.Write a Python Program to find N largest elements in the list ?"
      ],
      "metadata": {
        "id": "FxeCs6sdOaB3"
      }
    },
    {
      "cell_type": "code",
      "source": [
        "def nLargestEleInList(k):\n",
        "    in_ele = int(input('Enter the No of elements in a list: '))\n",
        "    in_list = []\n",
        "    for ele in range(in_ele):\n",
        "        in_list.append(int(input('Enter a Element: ')))\n",
        "    print(f'The {k} Largest Element in {in_list} is {sorted(in_list, reverse=True)[0:k]}')\n",
        "\n",
        "nLargestEleInList(4)"
      ],
      "metadata": {
        "colab": {
          "base_uri": "https://localhost:8080/"
        },
        "id": "n9MaaFwbOaSX",
        "outputId": "f60308a5-d765-4dff-ba67-5bdd004db236"
      },
      "execution_count": 10,
      "outputs": [
        {
          "output_type": "stream",
          "name": "stdout",
          "text": [
            "Enter the No of elements in a list: 6\n",
            "Enter a Element: 1\n",
            "Enter a Element: 2\n",
            "Enter a Element: 3\n",
            "Enter a Element: 4\n",
            "Enter a Element: 5\n",
            "Enter a Element: 1\n",
            "The 4 Largest Element in [1, 2, 3, 4, 5, 1] is [5, 4, 3, 2]\n"
          ]
        }
      ]
    },
    {
      "cell_type": "markdown",
      "source": [
        "7.Write a Python Program to find even numbers in the list ?"
      ],
      "metadata": {
        "id": "WOn4GNynPQku"
      }
    },
    {
      "cell_type": "code",
      "source": [
        "def evenNoInList():\n",
        "    in_ele = int(input('Enter the No of elements in a list: '))\n",
        "    in_list = []\n",
        "    even_list = []\n",
        "    for ele in range(in_ele):\n",
        "        in_list.append(int(input('Enter a Element: ')))\n",
        "    for ele in in_list:\n",
        "        if ele%2 == 0:\n",
        "            even_list.append(ele)\n",
        "    print(f'The Even Elements in {in_list} are {even_list}')\n",
        "\n",
        "evenNoInList()"
      ],
      "metadata": {
        "colab": {
          "base_uri": "https://localhost:8080/"
        },
        "id": "iTNsUC8yPQ2D",
        "outputId": "b1fbd785-f253-4c2c-d155-28131304f1b4"
      },
      "execution_count": 11,
      "outputs": [
        {
          "output_type": "stream",
          "name": "stdout",
          "text": [
            "Enter the No of elements in a list: 5\n",
            "Enter a Element: 1\n",
            "Enter a Element: 2\n",
            "Enter a Element: 3\n",
            "Enter a Element: 4\n",
            "Enter a Element: 5\n",
            "The Even Elements in [1, 2, 3, 4, 5] are [2, 4]\n"
          ]
        }
      ]
    },
    {
      "cell_type": "markdown",
      "source": [
        "8.Write a Python Program to find odd numbers in the list ?"
      ],
      "metadata": {
        "id": "800e0-DjPqGh"
      }
    },
    {
      "cell_type": "code",
      "source": [
        "def oddNoInList():\n",
        "    in_ele = int(input('Enter the No of elements in a list: '))\n",
        "    in_list = []\n",
        "    odd_list = []\n",
        "    for ele in range(in_ele):\n",
        "        in_list.append(int(input('Enter a Element: ')))\n",
        "    for ele in in_list:\n",
        "        if ele%2 != 0:\n",
        "            odd_list.append(ele)\n",
        "    print(f'The Even Elements in {in_list} are {odd_list}')\n",
        "\n",
        "oddNoInList()"
      ],
      "metadata": {
        "colab": {
          "base_uri": "https://localhost:8080/"
        },
        "id": "mtqAV6_LPqYK",
        "outputId": "76118ceb-be87-45a3-f2d6-e930ff576bf2"
      },
      "execution_count": 12,
      "outputs": [
        {
          "output_type": "stream",
          "name": "stdout",
          "text": [
            "Enter the No of elements in a list: 5\n",
            "Enter a Element: 3\n",
            "Enter a Element: 2\n",
            "Enter a Element: 4\n",
            "Enter a Element: 7\n",
            "Enter a Element: 8\n",
            "The Even Elements in [3, 2, 4, 7, 8] are [3, 7]\n"
          ]
        }
      ]
    },
    {
      "cell_type": "markdown",
      "source": [
        "9.Write a Python Program to remove empty list from list ?"
      ],
      "metadata": {
        "id": "Wg0wyekSPxSe"
      }
    },
    {
      "cell_type": "code",
      "source": [
        "def checkEmptyList():\n",
        "    in_list = eval(input('Enter all elements of the list: '))\n",
        "    if [] in in_list:\n",
        "        print(f'There is an Empty list in {in_list} at Position {in_list.index([])}')\n",
        "        in_list.remove([])\n",
        "        print(f'The List after removing [] is {in_list}')\n",
        "    else:\n",
        "        print(f'There is no [] List in the list {in_list}')\n",
        "        \n",
        "checkEmptyList()"
      ],
      "metadata": {
        "colab": {
          "base_uri": "https://localhost:8080/"
        },
        "id": "vnCGbToOPxkm",
        "outputId": "0d48b236-87ae-4057-8fca-c29cd6cbe455"
      },
      "execution_count": 14,
      "outputs": [
        {
          "output_type": "stream",
          "name": "stdout",
          "text": [
            "Enter all elements of the list: [1,2,3,4,[],4,5,6,7]\n",
            "There is an Empty list in [1, 2, 3, 4, [], 4, 5, 6, 7] at Position 4\n",
            "The List after removing [] is [1, 2, 3, 4, 4, 5, 6, 7]\n"
          ]
        }
      ]
    },
    {
      "cell_type": "markdown",
      "source": [
        "10.Write a Python Program to Cloning or Copying a list ?"
      ],
      "metadata": {
        "id": "seXXIMJUPx17"
      }
    },
    {
      "cell_type": "code",
      "source": [
        "import copy\n",
        "\n",
        "def cloneList():\n",
        "    in_list = eval(input('Enter a list'))\n",
        "    print(in_list, id(in_list))\n",
        "    cloned_list = in_list.copy()\n",
        "    print(cloned_list, id(cloned_list))\n",
        "\n",
        "cloneList()"
      ],
      "metadata": {
        "colab": {
          "base_uri": "https://localhost:8080/"
        },
        "id": "KCC2oKLxPyKy",
        "outputId": "44131397-55ec-4c10-fc30-89d0c81ab8c7"
      },
      "execution_count": 15,
      "outputs": [
        {
          "output_type": "stream",
          "name": "stdout",
          "text": [
            "Enter a list[1,2,3,4,5,6,7,8]\n",
            "[1, 2, 3, 4, 5, 6, 7, 8] 139822934216512\n",
            "[1, 2, 3, 4, 5, 6, 7, 8] 139822918594496\n"
          ]
        }
      ]
    },
    {
      "cell_type": "markdown",
      "source": [
        "11.Write a Python Program to count occurences of an element in a list ?"
      ],
      "metadata": {
        "id": "7g5NrckFQi1a"
      }
    },
    {
      "cell_type": "code",
      "source": [
        "def checkOccurence():\n",
        "    in_list = eval(input('Enter the elements of the list: '))\n",
        "    in_num = eval(input('Enter the element to find: '))\n",
        "    count = 0\n",
        "    if in_num in in_list:\n",
        "        for ele in in_list:\n",
        "            if ele == in_num:\n",
        "                count = count+1\n",
        "    print(f'There are {count} occurences of {in_num} in {in_list}')\n",
        "    \n",
        "checkOccurence()"
      ],
      "metadata": {
        "colab": {
          "base_uri": "https://localhost:8080/"
        },
        "id": "VERFrek4QjEh",
        "outputId": "c5a5125a-bdb3-416f-d49b-fc7ead273d55"
      },
      "execution_count": 16,
      "outputs": [
        {
          "output_type": "stream",
          "name": "stdout",
          "text": [
            "Enter the elements of the list: [1,2,3,3,4,5,6,7,3,2]\n",
            "Enter the element to find: 6\n",
            "There are 1 occurences of 6 in [1, 2, 3, 3, 4, 5, 6, 7, 3, 2]\n"
          ]
        }
      ]
    }
  ]
}