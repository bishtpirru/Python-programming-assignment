{
  "nbformat": 4,
  "nbformat_minor": 0,
  "metadata": {
    "colab": {
      "provenance": []
    },
    "kernelspec": {
      "name": "python3",
      "display_name": "Python 3"
    },
    "language_info": {
      "name": "python"
    }
  },
  "cells": [
    {
      "cell_type": "code",
      "execution_count": null,
      "metadata": {
        "id": "sNWoCNVM6cFP"
      },
      "outputs": [],
      "source": []
    },
    {
      "cell_type": "markdown",
      "source": [
        "#Programming Assignment 6"
      ],
      "metadata": {
        "id": "eIkC8uBQ6gXa"
      }
    },
    {
      "cell_type": "markdown",
      "source": [
        "1. Write a Python Program to Display Fibonacci Sequence Using Recursion?"
      ],
      "metadata": {
        "id": "cbXrek3V6ghl"
      }
    },
    {
      "cell_type": "code",
      "source": [
        "def fibonacci_recursive(n):\n",
        "    if n <= 1:\n",
        "        return n\n",
        "    else:\n",
        "        return fibonacci_recursive(n-1) + fibonacci_recursive(n-2)\n",
        "\n",
        "nterms = int(input(\"Enter the number of terms you want to display: \"))\n",
        "\n",
        "if nterms <= 0:\n",
        "    print(\"Please enter a positive integer\")\n",
        "else:\n",
        "    print(\"Fibonacci sequence:\")\n",
        "    for i in range(nterms):\n",
        "        print(fibonacci_recursive(i))"
      ],
      "metadata": {
        "id": "lMEtcogx6gyl",
        "colab": {
          "base_uri": "https://localhost:8080/"
        },
        "outputId": "11f0e0ff-193d-41b0-8c27-26bdf06e6b88"
      },
      "execution_count": 1,
      "outputs": [
        {
          "output_type": "stream",
          "name": "stdout",
          "text": [
            "Enter the number of terms you want to display: 6\n",
            "Fibonacci sequence:\n",
            "0\n",
            "1\n",
            "1\n",
            "2\n",
            "3\n",
            "5\n"
          ]
        }
      ]
    },
    {
      "cell_type": "markdown",
      "source": [
        "2. Write a Python Program to Find Factorial of Number Using Recursion?"
      ],
      "metadata": {
        "id": "SKz2RTqy6g-p"
      }
    },
    {
      "cell_type": "code",
      "source": [
        "def factorial(num):\n",
        "    if num == 0:\n",
        "        return 1\n",
        "    else:\n",
        "        return num * factorial(num-1)\n",
        "\n",
        "num = int(input(\"Enter a non-negative integer to find its factorial: \"))\n",
        "\n",
        "if num < 0:\n",
        "    print(\"Invalid input! Please enter a non-negative integer.\")\n",
        "else:\n",
        "    result = factorial(num)\n",
        "    print(\"Factorial of\", num, \"is\", result)"
      ],
      "metadata": {
        "id": "KU49AD4R6hLD",
        "colab": {
          "base_uri": "https://localhost:8080/"
        },
        "outputId": "4fd77b65-3bcc-4dd3-ac22-b3b02c3d5100"
      },
      "execution_count": 2,
      "outputs": [
        {
          "output_type": "stream",
          "name": "stdout",
          "text": [
            "Enter a non-negative integer to find its factorial: 8\n",
            "Factorial of 8 is 40320\n"
          ]
        }
      ]
    },
    {
      "cell_type": "markdown",
      "source": [
        "3. Write a Python Program to calculate your Body Mass Index?\n"
      ],
      "metadata": {
        "id": "JHgvKQDi6hXS"
      }
    },
    {
      "cell_type": "code",
      "source": [
        "def calculate_bmi(weight, height):\n",
        "    height_m = height / 100.0\n",
        "    \n",
        "    bmi = weight / (height_m ** 2)\n",
        "    \n",
        "    return bmi\n",
        "\n",
        "weight = float(input(\"Enter your weight in kg: \"))\n",
        "height = float(input(\"Enter your height in cm: \"))\n",
        "\n",
        "bmi = calculate_bmi(weight, height)\n",
        "\n",
        "print(\"Your BMI is: {:.2f}\".format(bmi))\n",
        "\n"
      ],
      "metadata": {
        "id": "si0XQyYC6hk8",
        "colab": {
          "base_uri": "https://localhost:8080/"
        },
        "outputId": "c443fb7b-a1c3-421e-ade4-f10cfeb5bdc6"
      },
      "execution_count": 4,
      "outputs": [
        {
          "output_type": "stream",
          "name": "stdout",
          "text": [
            "Enter your weight in kg: 45\n",
            "Enter your height in cm: 165\n",
            "Your BMI is: 16.53\n"
          ]
        }
      ]
    },
    {
      "cell_type": "markdown",
      "source": [
        "4. Write a Python Program to calculate the natural logarithm of any number?"
      ],
      "metadata": {
        "id": "5SxeIlp76hyT"
      }
    },
    {
      "cell_type": "code",
      "source": [
        "import math\n",
        "\n",
        "num = float(input(\"Enter a number: \"))\n",
        "\n",
        "result = math.log(num)\n",
        "\n",
        "print(f\"The natural logarithm of {num} is {result:.4f}\")"
      ],
      "metadata": {
        "id": "iFOdm7TU6iBZ",
        "colab": {
          "base_uri": "https://localhost:8080/"
        },
        "outputId": "c74162ad-eaad-4446-f729-2d828dd9ecf9"
      },
      "execution_count": 5,
      "outputs": [
        {
          "output_type": "stream",
          "name": "stdout",
          "text": [
            "Enter a number: 5\n",
            "The natural logarithm of 5.0 is 1.6094\n"
          ]
        }
      ]
    },
    {
      "cell_type": "markdown",
      "source": [
        "5. Write a Python Program for cube sum of first n natural numbers?"
      ],
      "metadata": {
        "id": "IUI35Ecd6lAW"
      }
    },
    {
      "cell_type": "code",
      "source": [
        "def cube_sum(n):\n",
        "    sum = 0\n",
        "    for i in range(1, n+1):\n",
        "        sum += i**3\n",
        "    return sum\n",
        "\n",
        "print(cube_sum(5))"
      ],
      "metadata": {
        "id": "9h5aNbjQ6lOS",
        "colab": {
          "base_uri": "https://localhost:8080/"
        },
        "outputId": "2cd46a46-74b7-4a84-90fe-6e5ca70872a6"
      },
      "execution_count": 6,
      "outputs": [
        {
          "output_type": "stream",
          "name": "stdout",
          "text": [
            "225\n"
          ]
        }
      ]
    }
  ]
}