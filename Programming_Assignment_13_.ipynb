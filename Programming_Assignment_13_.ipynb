{
  "nbformat": 4,
  "nbformat_minor": 0,
  "metadata": {
    "colab": {
      "provenance": []
    },
    "kernelspec": {
      "name": "python3",
      "display_name": "Python 3"
    },
    "language_info": {
      "name": "python"
    }
  },
  "cells": [
    {
      "cell_type": "markdown",
      "source": [
        "#Programing Assignment 13"
      ],
      "metadata": {
        "id": "RNLA6JOIDXkS"
      }
    },
    {
      "cell_type": "markdown",
      "source": [
        "1.Write a program that calculates and prints the value according to the given formula:\n",
        "\n",
        "Q = Square root of [(2 * C * D)/H]\n",
        "\n",
        "Following are the fixed values of C and H:\n",
        "\n",
        "C is 50. H is 30.\n",
        "\n",
        "D is the variable whose values should be input to your program in a comma-separated sequence.\n",
        "\n",
        "Example: Let us assume the following comma separated input sequence is given to the program:100,150,180\n",
        "\n",
        "The output of the program should be: 18,22,24"
      ],
      "metadata": {
        "id": "Jr6ZPztBDX-e"
      }
    },
    {
      "cell_type": "code",
      "source": [
        "from math import sqrt\n",
        "def calculateProgram():\n",
        "    in_num = eval(input(\"Enter the Input: \"))\n",
        "    out_num = []\n",
        "    C = 50 \n",
        "    H = 30 \n",
        "    for ele in in_num:\n",
        "        Q = str(int(sqrt((2*C*ele)/H)))\n",
        "        out_num.append(Q)\n",
        "    print(\"Output: {}\".format(','.join(out_num)))\n",
        "    \n",
        "calculateProgram()"
      ],
      "metadata": {
        "colab": {
          "base_uri": "https://localhost:8080/"
        },
        "id": "CVGekvkjDYQR",
        "outputId": "42eeb801-c5eb-4f38-e909-a8e78f1b1d95"
      },
      "execution_count": 1,
      "outputs": [
        {
          "output_type": "stream",
          "name": "stdout",
          "text": [
            "Enter the Input: 100,150,180\n",
            "Output: 18,22,24\n"
          ]
        }
      ]
    },
    {
      "cell_type": "markdown",
      "source": [
        "2.Write a program which takes 2 digits, X,Y as input and generates a 2-dimensional array. The element value in the i-th row and j-th column of the array should be i*j.\n",
        "\n",
        "Note: i=0,1.., X-1; j=0,1,¡Y-1.\n",
        "\n",
        "Example: Suppose the following inputs are given to the program: 3,5\n",
        "Then, the output of the program should be:[[0, 0, 0, 0, 0], [0, 1, 2, 3, 4], [0, 2, 4, 6, 8]]"
      ],
      "metadata": {
        "id": "5GBcf-q2DYev"
      }
    },
    {
      "cell_type": "code",
      "source": [
        "import array as arr\n",
        "def generateArray():\n",
        "    in_x = int(input('Enter the No of Rows:'))\n",
        "    in_y = int(input('Enter the No of Columns:')) \n",
        "    out_array = []\n",
        "    for ele in range(in_x):\n",
        "        out_array.insert(in_x,[])\n",
        "        for sub_ele in range(in_y):\n",
        "            out_array[ele].append(ele*sub_ele)\n",
        "    print(out_array)\n",
        "    \n",
        "generateArray()"
      ],
      "metadata": {
        "colab": {
          "base_uri": "https://localhost:8080/"
        },
        "id": "DMvD-uCKDYtr",
        "outputId": "a9e6c034-beda-4e7d-a8ad-3f6e522a14ed"
      },
      "execution_count": 2,
      "outputs": [
        {
          "output_type": "stream",
          "name": "stdout",
          "text": [
            "Enter the No of Rows:4\n",
            "Enter the No of Columns:3\n",
            "[[0, 0, 0], [0, 1, 2], [0, 2, 4], [0, 3, 6]]\n"
          ]
        }
      ]
    },
    {
      "cell_type": "markdown",
      "source": [
        "3.Write a program that accepts a comma separated sequence of words as input and prints the words in a comma-separated sequence after sorting them alphabetically ?\n",
        "\n",
        "Suppose the following input is supplied to the program: without,hello,bag,world\n",
        "\n",
        "Then, the output should be: bag,hello,without,world"
      ],
      "metadata": {
        "id": "WmeOfBx1DY9P"
      }
    },
    {
      "cell_type": "code",
      "source": [
        "def sortString():\n",
        "    in_string = input(\"Enter the Input String: \")\n",
        "    out_string = ','.join(sorted(in_string.split(',')))\n",
        "    print(f'Output: {out_string}')\n",
        "    \n",
        "sortString()"
      ],
      "metadata": {
        "colab": {
          "base_uri": "https://localhost:8080/"
        },
        "id": "aZUOmPHcDZMV",
        "outputId": "793467e4-d742-4da4-991f-24c7dcc12844"
      },
      "execution_count": 3,
      "outputs": [
        {
          "output_type": "stream",
          "name": "stdout",
          "text": [
            "Enter the Input String: without,hello,bag,world\n",
            "Output: bag,hello,without,world\n"
          ]
        }
      ]
    },
    {
      "cell_type": "markdown",
      "source": [
        "4.Write a program that accepts a sequence of whitespace separated words as input and prints the words after removing all duplicate words and sorting them alphanumerically.\n",
        "\n",
        "Suppose the following input is supplied to the program: hello world and practice makes perfect and hello world again\n",
        "\n",
        "Then, the output should be: again and hello makes perfect practice world"
      ],
      "metadata": {
        "id": "M5T8pKs8DZcO"
      }
    },
    {
      "cell_type": "code",
      "source": [
        "def sortAlphaNumerically():\n",
        "    in_string = input(\"Enter the Input String: \")\n",
        "    out_string = ' '.join(sorted(sorted(list(set(in_string.split(\" \"))))))\n",
        "    print(f'Output: {out_string}')\n",
        "    \n",
        "sortAlphaNumerically()"
      ],
      "metadata": {
        "colab": {
          "base_uri": "https://localhost:8080/"
        },
        "id": "PDuy5zZoDZq3",
        "outputId": "48f45e04-1e3a-411a-8be7-0c82164b5686"
      },
      "execution_count": 4,
      "outputs": [
        {
          "output_type": "stream",
          "name": "stdout",
          "text": [
            "Enter the Input String: hello world and practice makes perfect and hello world again\n",
            "Output: again and hello makes perfect practice world\n"
          ]
        }
      ]
    },
    {
      "cell_type": "markdown",
      "source": [
        "5.Write a program that accepts a sentence and calculate the number of letters and digits.\n",
        "\n",
        "Suppose the following input is supplied to the program: hello world! 123\n",
        "\n",
        "Then, the output should be:\n",
        "\n",
        "LETTERS 10\n",
        "\n",
        "DIGITS 3"
      ],
      "metadata": {
        "id": "7TTpyPn6GXNr"
      }
    },
    {
      "cell_type": "code",
      "source": [
        "def countLetterAndDigits():\n",
        "    in_string = input(\"Enter the Input String: \")\n",
        "    lettersList = 'ABCDEFGHIJKLMNOPQRSTUVWXYZabcdefghijklmnopqrstuvwxyz'\n",
        "    digitsList = '0123456789'\n",
        "    letters = 0\n",
        "    digits = 0\n",
        "    for ele in in_string:\n",
        "        if ele in lettersList:\n",
        "            letters += 1\n",
        "        if ele in digitsList:\n",
        "            digits += 1\n",
        "    print(f'LETTERS {letters} \\nDIGITS {digits}')\n",
        "        \n",
        "countLetterAndDigits()"
      ],
      "metadata": {
        "colab": {
          "base_uri": "https://localhost:8080/"
        },
        "id": "_qInmJbxGXme",
        "outputId": "027d724c-f392-4bd5-f240-c1819781ff0b"
      },
      "execution_count": 5,
      "outputs": [
        {
          "output_type": "stream",
          "name": "stdout",
          "text": [
            "Enter the Input String: hello world! 123\n",
            "LETTERS 10 \n",
            "DIGITS 3\n"
          ]
        }
      ]
    },
    {
      "cell_type": "markdown",
      "source": [
        "6.A website requires the users to input username and password to register. Write a program to check the validity of password input by users.\n",
        "Following are the criteria for checking the password:\n",
        "\n",
        "At least 1 letter between [a-z]\n",
        "\n",
        "At least 1 number between [0-9]\n",
        "\n",
        "At least 1 letter between [A-Z]\n",
        "\n",
        "At least 1 character from [$#@]\n",
        "\n",
        "Minimum length of transaction password: 6\n",
        "\n",
        "Maximum length of transaction password: 12\n",
        "\n",
        "Your program should accept a sequence of comma separated passwords and will check them according to the above criteria. Passwords that match the criteria are to be printed, each separated by a comma.\n",
        "\n",
        "Example:\n",
        "\n",
        "If the following passwords are given as input to the program: ABd1234@1,a F1#,2w3E*,2We3345\n",
        "\n",
        "Then, the output of the program should be:ABd1234@1"
      ],
      "metadata": {
        "id": "k30A7h4mGmG5"
      }
    },
    {
      "cell_type": "code",
      "source": [
        "def checkPassword():\n",
        "    in_string = input(\"Enter the Input String: \")\n",
        "    small_list = \"abcdefghijklmnopqrstuvwxyz\"\n",
        "    cap_list = \"ABCDEFGHIJKLMNOPQRSTUVWXYZ\"\n",
        "    num_list = \"0123456789\"\n",
        "    special_list = \"$#@\"\n",
        "    for ele in in_string.split(\",\"):\n",
        "        if len(ele) <= 12 and len(ele) >=6 :\n",
        "            if any(i.isupper() for i in ele):\n",
        "                if any(i.islower() for i in ele):\n",
        "                    if any(i for i in ele if i in special_list):\n",
        "                        print(ele)\n",
        "                               \n",
        "checkPassword() "
      ],
      "metadata": {
        "colab": {
          "base_uri": "https://localhost:8080/"
        },
        "id": "ixc6jr8_GmXS",
        "outputId": "35547b56-8995-4da8-dc80-b0bbb65fd7e5"
      },
      "execution_count": 6,
      "outputs": [
        {
          "output_type": "stream",
          "name": "stdout",
          "text": [
            "Enter the Input String: ABd1234@1,a F1#,2w3E*,2We3345\n",
            "ABd1234@1\n"
          ]
        }
      ]
    }
  ]
}