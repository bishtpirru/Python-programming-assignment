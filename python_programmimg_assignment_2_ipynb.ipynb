{
  "nbformat": 4,
  "nbformat_minor": 0,
  "metadata": {
    "colab": {
      "provenance": []
    },
    "kernelspec": {
      "name": "python3",
      "display_name": "Python 3"
    },
    "language_info": {
      "name": "python"
    }
  },
  "cells": [
    {
      "cell_type": "markdown",
      "source": [
        "#Programming Assigment 2"
      ],
      "metadata": {
        "id": "ao-cKwHhj2ku"
      }
    },
    {
      "cell_type": "markdown",
      "source": [
        "1.Write a Python program to convert Kilometers to Miles ?"
      ],
      "metadata": {
        "id": "0J2Mc0YJkD2h"
      }
    },
    {
      "cell_type": "code",
      "source": [
        "def kmToMiles():\n",
        "    kiloMeters = float(input(\"Enter no of kilometers : \"))\n",
        "    print(\"{} km is Equal to {} miles\".format(kiloMeters,kiloMeters*0.621))\n",
        "\n",
        "kmToMiles()"
      ],
      "metadata": {
        "colab": {
          "base_uri": "https://localhost:8080/"
        },
        "id": "xC7zD5b6kEPp",
        "outputId": "0f24cd19-f111-44e8-d6be-d2e149629217"
      },
      "execution_count": null,
      "outputs": [
        {
          "output_type": "stream",
          "name": "stdout",
          "text": [
            "Enter no of kilometers : 22\n",
            "22.0 km is Equal to 13.661999999999999 miles\n"
          ]
        }
      ]
    },
    {
      "cell_type": "markdown",
      "source": [
        "2.Write a Python program to convert Celsius to Farenheit ?"
      ],
      "metadata": {
        "id": "D-fsnPLikEgz"
      }
    },
    {
      "cell_type": "code",
      "source": [
        "def celToFarh():\n",
        "    celsius = int(input(\"Enter temperature in celsius : \"))\n",
        "    Farenheit = (celsius*(9/5))+32\n",
        "    print(\"{}° Celsius is Equal to {}° Farenheit\".format(celsius,Farenheit))\n",
        "    \n",
        "celToFarh()"
      ],
      "metadata": {
        "colab": {
          "base_uri": "https://localhost:8080/"
        },
        "id": "TCMIUSzdkE2I",
        "outputId": "4535c42c-30c4-43e2-ac4f-d02fa4d3b2b6"
      },
      "execution_count": null,
      "outputs": [
        {
          "output_type": "stream",
          "name": "stdout",
          "text": [
            "Enter temperature in celsius : 21\n",
            "21° Celsius is Equal to 69.80000000000001° Farenheit\n"
          ]
        }
      ]
    },
    {
      "cell_type": "markdown",
      "source": [
        "3.Write a Python program to display calender ?"
      ],
      "metadata": {
        "id": "cFdi8sgikFJM"
      }
    },
    {
      "cell_type": "code",
      "source": [
        "import calendar\n",
        "\n",
        "def showCalender():\n",
        "    year = int(input(\"Enter calender year: \"))\n",
        "    print(calendar.calendar(year))\n",
        "    \n",
        "showCalender()"
      ],
      "metadata": {
        "colab": {
          "base_uri": "https://localhost:8080/"
        },
        "id": "HFVZTPMKkFc6",
        "outputId": "4309e42f-cc0f-4e81-bab7-305d0b0a56bc"
      },
      "execution_count": null,
      "outputs": [
        {
          "output_type": "stream",
          "name": "stdout",
          "text": [
            "Enter calender year: 2023\n",
            "                                  2023\n",
            "\n",
            "      January                   February                   March\n",
            "Mo Tu We Th Fr Sa Su      Mo Tu We Th Fr Sa Su      Mo Tu We Th Fr Sa Su\n",
            "                   1             1  2  3  4  5             1  2  3  4  5\n",
            " 2  3  4  5  6  7  8       6  7  8  9 10 11 12       6  7  8  9 10 11 12\n",
            " 9 10 11 12 13 14 15      13 14 15 16 17 18 19      13 14 15 16 17 18 19\n",
            "16 17 18 19 20 21 22      20 21 22 23 24 25 26      20 21 22 23 24 25 26\n",
            "23 24 25 26 27 28 29      27 28                     27 28 29 30 31\n",
            "30 31\n",
            "\n",
            "       April                      May                       June\n",
            "Mo Tu We Th Fr Sa Su      Mo Tu We Th Fr Sa Su      Mo Tu We Th Fr Sa Su\n",
            "                1  2       1  2  3  4  5  6  7                1  2  3  4\n",
            " 3  4  5  6  7  8  9       8  9 10 11 12 13 14       5  6  7  8  9 10 11\n",
            "10 11 12 13 14 15 16      15 16 17 18 19 20 21      12 13 14 15 16 17 18\n",
            "17 18 19 20 21 22 23      22 23 24 25 26 27 28      19 20 21 22 23 24 25\n",
            "24 25 26 27 28 29 30      29 30 31                  26 27 28 29 30\n",
            "\n",
            "        July                     August                  September\n",
            "Mo Tu We Th Fr Sa Su      Mo Tu We Th Fr Sa Su      Mo Tu We Th Fr Sa Su\n",
            "                1  2          1  2  3  4  5  6                   1  2  3\n",
            " 3  4  5  6  7  8  9       7  8  9 10 11 12 13       4  5  6  7  8  9 10\n",
            "10 11 12 13 14 15 16      14 15 16 17 18 19 20      11 12 13 14 15 16 17\n",
            "17 18 19 20 21 22 23      21 22 23 24 25 26 27      18 19 20 21 22 23 24\n",
            "24 25 26 27 28 29 30      28 29 30 31               25 26 27 28 29 30\n",
            "31\n",
            "\n",
            "      October                   November                  December\n",
            "Mo Tu We Th Fr Sa Su      Mo Tu We Th Fr Sa Su      Mo Tu We Th Fr Sa Su\n",
            "                   1             1  2  3  4  5                   1  2  3\n",
            " 2  3  4  5  6  7  8       6  7  8  9 10 11 12       4  5  6  7  8  9 10\n",
            " 9 10 11 12 13 14 15      13 14 15 16 17 18 19      11 12 13 14 15 16 17\n",
            "16 17 18 19 20 21 22      20 21 22 23 24 25 26      18 19 20 21 22 23 24\n",
            "23 24 25 26 27 28 29      27 28 29 30               25 26 27 28 29 30 31\n",
            "30 31\n",
            "\n"
          ]
        }
      ]
    },
    {
      "cell_type": "markdown",
      "source": [
        "4.Write a Python program to solve quadartic equation ?\n"
      ],
      "metadata": {
        "id": "xoTEtmXJkFwq"
      }
    },
    {
      "cell_type": "code",
      "source": [
        "import cmath\n",
        "import math\n",
        "\n",
        "def quadarticEquationRoots(a,b,c):\n",
        "    \n",
        "    discriminant = b*b-4*a*c\n",
        "    \n",
        "    if discriminant == 0:\n",
        "        r1 = -b/2*a\n",
        "        r2 = -b/2*a\n",
        "        print(\"Roots are Real\",r1,r2)\n",
        "    elif discriminant > 0:\n",
        "        r1 = (-b-math.sqrt(discriminant))/(2 * a)\n",
        "        r2 = (-b+math.sqrt(discriminant))/(2 * a)\n",
        "        print(\"Roots are Real and different\",r1,r2)\n",
        "    else:\n",
        "        r1 = (-b-cmath.sqrt(discriminant))/(2 * a)\n",
        "        r2 = (-b+cmath.sqrt(discriminant))/(2 * a)\n",
        "        print(\"Roots are Imaginary\",r1,r2)\n",
        "\n",
        "\n",
        "a = int(input('Enter a value: '))\n",
        "b = int(input('Enter b value: '))\n",
        "c = int(input('Enter c value: '))\n",
        "\n",
        "quadarticEquationRoots(a,b,c)"
      ],
      "metadata": {
        "colab": {
          "base_uri": "https://localhost:8080/"
        },
        "id": "9QQlxOKvkGCT",
        "outputId": "1180e8bc-d273-457b-eda7-eacec0ca7a46"
      },
      "execution_count": null,
      "outputs": [
        {
          "output_type": "stream",
          "name": "stdout",
          "text": [
            "Enter a value: 2\n",
            "Enter b value: 4\n",
            "Enter c value: 6\n",
            "Roots are Imaginary (-1-1.4142135623730951j) (-1+1.4142135623730951j)\n"
          ]
        }
      ]
    },
    {
      "cell_type": "markdown",
      "source": [
        "5.Write a Python program to swap two variables without temp variable ?"
      ],
      "metadata": {
        "id": "aQQ4ZRrcmENg"
      }
    },
    {
      "cell_type": "code",
      "source": [
        "num_1 = int(input('Enter first number: '))\n",
        "num_2 = int(input('Enter second number: '))\n",
        "\n",
        "\n",
        "def swapNumbers(num_1,num_2):\n",
        "        print('Before Swapping',num_1,num_2)\n",
        "        num_1 = num_1+num_2\n",
        "        num_2 = num_1-num_2\n",
        "        num_1 = num_1-num_2\n",
        "        print('before Swapping',num_1,num_2)\n",
        "\n",
        "swapNumbers(num_1,num_2)"
      ],
      "metadata": {
        "colab": {
          "base_uri": "https://localhost:8080/"
        },
        "id": "WbOX22WPmEpv",
        "outputId": "b5cc0fc3-615a-4bc2-b7a1-1f248b859f3f"
      },
      "execution_count": null,
      "outputs": [
        {
          "output_type": "stream",
          "name": "stdout",
          "text": [
            "Enter first number: 4\n",
            "Enter second number: 5\n",
            "Before Swapping 4 5\n",
            "before Swapping 5 4\n"
          ]
        }
      ]
    }
  ]
}